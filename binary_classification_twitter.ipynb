{
  "nbformat": 4,
  "nbformat_minor": 0,
  "metadata": {
    "language_info": {
      "codemirror_mode": {
        "name": "ipython",
        "version": 3
      },
      "file_extension": ".py",
      "mimetype": "text/x-python",
      "name": "python",
      "nbconvert_exporter": "python",
      "pygments_lexer": "ipython3",
      "version": "3.7.3-final"
    },
    "orig_nbformat": 2,
    "kernelspec": {
      "name": "python3",
      "display_name": "Python 3",
      "language": "python"
    },
    "colab": {
      "name": "binary_classification_twitter.ipynb",
      "provenance": [],
      "collapsed_sections": [],
      "include_colab_link": true
    }
  },
  "cells": [
    {
      "cell_type": "markdown",
      "metadata": {
        "id": "view-in-github",
        "colab_type": "text"
      },
      "source": [
        "<a href=\"https://colab.research.google.com/github/Pitypety/tweet_binary_classification/blob/main/binary_classification_twitter.ipynb\" target=\"_parent\"><img src=\"https://colab.research.google.com/assets/colab-badge.svg\" alt=\"Open In Colab\"/></a>"
      ]
    },
    {
      "cell_type": "markdown",
      "metadata": {
        "id": "VgC7cwO7kSDV"
      },
      "source": [
        "# Tweet-ek osztályzása zenei műfaj alapján (jazz és rock)\r\n"
      ]
    },
    {
      "cell_type": "markdown",
      "metadata": {
        "id": "t3KzCgG0kp8k"
      },
      "source": [
        "#Előkészületek, fájlbeolvasás google drive-ból"
      ]
    },
    {
      "cell_type": "code",
      "metadata": {
        "id": "GyYTJXxPeq4X"
      },
      "source": [
        "import pandas as pd\n",
        "import nltk\n",
        "from nltk import word_tokenize\n",
        "from nltk import pos_tag\n",
        "from nltk.stem.porter import PorterStemmer\n",
        "from nltk.corpus import stopwords\n",
        "import re\n",
        "import string"
      ],
      "execution_count": 36,
      "outputs": []
    },
    {
      "cell_type": "code",
      "metadata": {
        "colab": {
          "base_uri": "https://localhost:8080/",
          "height": 424
        },
        "id": "KLY_JBCBdkcd",
        "outputId": "cb05a79d-e2f5-4337-bf76-fb181b2966d7"
      },
      "source": [
        "#Fájlbeolvasás githubról\r\n",
        "url_jazz = 'https://raw.githubusercontent.com/Pitypety/tweet_binary_classification/main/jazz7.csv'\r\n",
        "url_rock = 'https://raw.githubusercontent.com/Pitypety/tweet_binary_classification/main/rock7.csv'\r\n",
        "df_jazz = pd.read_csv(url_jazz)\r\n",
        "df_rock = pd.read_csv(url_rock)\r\n",
        "df_jazz"
      ],
      "execution_count": 37,
      "outputs": [
        {
          "output_type": "execute_result",
          "data": {
            "text/html": [
              "<div>\n",
              "<style scoped>\n",
              "    .dataframe tbody tr th:only-of-type {\n",
              "        vertical-align: middle;\n",
              "    }\n",
              "\n",
              "    .dataframe tbody tr th {\n",
              "        vertical-align: top;\n",
              "    }\n",
              "\n",
              "    .dataframe thead th {\n",
              "        text-align: right;\n",
              "    }\n",
              "</style>\n",
              "<table border=\"1\" class=\"dataframe\">\n",
              "  <thead>\n",
              "    <tr style=\"text-align: right;\">\n",
              "      <th></th>\n",
              "      <th>tweet_text</th>\n",
              "      <th>all_hashtags</th>\n",
              "    </tr>\n",
              "  </thead>\n",
              "  <tbody>\n",
              "    <tr>\n",
              "      <th>0</th>\n",
              "      <td>Now Playing, Lynne Arriale — Think of One from...</td>\n",
              "      <td>['music', 'Jazz']</td>\n",
              "    </tr>\n",
              "    <tr>\n",
              "      <th>1</th>\n",
              "      <td>Live #MagaSwing #jazz #musique #culture Regard...</td>\n",
              "      <td>['MagaSwing', 'jazz', 'musique', 'culture']</td>\n",
              "    </tr>\n",
              "    <tr>\n",
              "      <th>2</th>\n",
              "      <td>Subscribe to our playlist !⠀ ⠀ https://t.co/Bj...</td>\n",
              "      <td>['playlist', 'jazz', 'newyork', 'bar', 'wnts',...</td>\n",
              "    </tr>\n",
              "    <tr>\n",
              "      <th>3</th>\n",
              "      <td>Now Playing, Kenny Burrell — The Squeeze from ...</td>\n",
              "      <td>['music', 'Jazz']</td>\n",
              "    </tr>\n",
              "    <tr>\n",
              "      <th>4</th>\n",
              "      <td>Two Left Feet - 12/02/21  Pre save from midnig...</td>\n",
              "      <td>['newmusic', 'bassist', 'bass', 'guitar', 'gui...</td>\n",
              "    </tr>\n",
              "    <tr>\n",
              "      <th>...</th>\n",
              "      <td>...</td>\n",
              "      <td>...</td>\n",
              "    </tr>\n",
              "    <tr>\n",
              "      <th>7631</th>\n",
              "      <td>Afro Brazilian Jazz Journey  https://t.co/ZgWR...</td>\n",
              "      <td>['jazz', 'drums', 'drurmmer', 'live', 'show', ...</td>\n",
              "    </tr>\n",
              "    <tr>\n",
              "      <th>7632</th>\n",
              "      <td>*   * I've noticed that the more adventurous a...</td>\n",
              "      <td>['jazz', 'art', 'quote']</td>\n",
              "    </tr>\n",
              "    <tr>\n",
              "      <th>7633</th>\n",
              "      <td>Now Playing, Dexter Gordon — Lullaby In Rhythm...</td>\n",
              "      <td>['music', 'Jazz']</td>\n",
              "    </tr>\n",
              "    <tr>\n",
              "      <th>7634</th>\n",
              "      <td>10 games ahead of us tonight 🙌🔥#NBA2021 Bet Ea...</td>\n",
              "      <td>['NBA2021', 'Warriors', 'Jazz', 'Nets', 'Rapto...</td>\n",
              "    </tr>\n",
              "    <tr>\n",
              "      <th>7635</th>\n",
              "      <td>Now Playing, Cannonball Adderley — Dancing in ...</td>\n",
              "      <td>['music', 'Jazz']</td>\n",
              "    </tr>\n",
              "  </tbody>\n",
              "</table>\n",
              "<p>7636 rows × 2 columns</p>\n",
              "</div>"
            ],
            "text/plain": [
              "                                             tweet_text                                       all_hashtags\n",
              "0     Now Playing, Lynne Arriale — Think of One from...                                  ['music', 'Jazz']\n",
              "1     Live #MagaSwing #jazz #musique #culture Regard...        ['MagaSwing', 'jazz', 'musique', 'culture']\n",
              "2     Subscribe to our playlist !⠀ ⠀ https://t.co/Bj...  ['playlist', 'jazz', 'newyork', 'bar', 'wnts',...\n",
              "3     Now Playing, Kenny Burrell — The Squeeze from ...                                  ['music', 'Jazz']\n",
              "4     Two Left Feet - 12/02/21  Pre save from midnig...  ['newmusic', 'bassist', 'bass', 'guitar', 'gui...\n",
              "...                                                 ...                                                ...\n",
              "7631  Afro Brazilian Jazz Journey  https://t.co/ZgWR...  ['jazz', 'drums', 'drurmmer', 'live', 'show', ...\n",
              "7632  *   * I've noticed that the more adventurous a...                           ['jazz', 'art', 'quote']\n",
              "7633  Now Playing, Dexter Gordon — Lullaby In Rhythm...                                  ['music', 'Jazz']\n",
              "7634  10 games ahead of us tonight 🙌🔥#NBA2021 Bet Ea...  ['NBA2021', 'Warriors', 'Jazz', 'Nets', 'Rapto...\n",
              "7635  Now Playing, Cannonball Adderley — Dancing in ...                                  ['music', 'Jazz']\n",
              "\n",
              "[7636 rows x 2 columns]"
            ]
          },
          "metadata": {
            "tags": []
          },
          "execution_count": 37
        }
      ]
    },
    {
      "cell_type": "markdown",
      "metadata": {
        "id": "EZU8eJ6Fk54i"
      },
      "source": [
        "#Posztok címkézése, tanító és teszt adatbázisok elkülönítése"
      ]
    },
    {
      "cell_type": "code",
      "metadata": {
        "id": "rUxdYI2keq4i",
        "colab": {
          "base_uri": "https://localhost:8080/",
          "height": 424
        },
        "outputId": "541aac54-3391-4069-b9f3-b21d226b119b"
      },
      "source": [
        "#dataframe-ek felcímkézése\n",
        "df_jazz['Label']='jazz' \n",
        "df_rock['Label']='rock'\n",
        "df_jazz"
      ],
      "execution_count": 38,
      "outputs": [
        {
          "output_type": "execute_result",
          "data": {
            "text/html": [
              "<div>\n",
              "<style scoped>\n",
              "    .dataframe tbody tr th:only-of-type {\n",
              "        vertical-align: middle;\n",
              "    }\n",
              "\n",
              "    .dataframe tbody tr th {\n",
              "        vertical-align: top;\n",
              "    }\n",
              "\n",
              "    .dataframe thead th {\n",
              "        text-align: right;\n",
              "    }\n",
              "</style>\n",
              "<table border=\"1\" class=\"dataframe\">\n",
              "  <thead>\n",
              "    <tr style=\"text-align: right;\">\n",
              "      <th></th>\n",
              "      <th>tweet_text</th>\n",
              "      <th>all_hashtags</th>\n",
              "      <th>Label</th>\n",
              "    </tr>\n",
              "  </thead>\n",
              "  <tbody>\n",
              "    <tr>\n",
              "      <th>0</th>\n",
              "      <td>Now Playing, Lynne Arriale — Think of One from...</td>\n",
              "      <td>['music', 'Jazz']</td>\n",
              "      <td>jazz</td>\n",
              "    </tr>\n",
              "    <tr>\n",
              "      <th>1</th>\n",
              "      <td>Live #MagaSwing #jazz #musique #culture Regard...</td>\n",
              "      <td>['MagaSwing', 'jazz', 'musique', 'culture']</td>\n",
              "      <td>jazz</td>\n",
              "    </tr>\n",
              "    <tr>\n",
              "      <th>2</th>\n",
              "      <td>Subscribe to our playlist !⠀ ⠀ https://t.co/Bj...</td>\n",
              "      <td>['playlist', 'jazz', 'newyork', 'bar', 'wnts',...</td>\n",
              "      <td>jazz</td>\n",
              "    </tr>\n",
              "    <tr>\n",
              "      <th>3</th>\n",
              "      <td>Now Playing, Kenny Burrell — The Squeeze from ...</td>\n",
              "      <td>['music', 'Jazz']</td>\n",
              "      <td>jazz</td>\n",
              "    </tr>\n",
              "    <tr>\n",
              "      <th>4</th>\n",
              "      <td>Two Left Feet - 12/02/21  Pre save from midnig...</td>\n",
              "      <td>['newmusic', 'bassist', 'bass', 'guitar', 'gui...</td>\n",
              "      <td>jazz</td>\n",
              "    </tr>\n",
              "    <tr>\n",
              "      <th>...</th>\n",
              "      <td>...</td>\n",
              "      <td>...</td>\n",
              "      <td>...</td>\n",
              "    </tr>\n",
              "    <tr>\n",
              "      <th>7631</th>\n",
              "      <td>Afro Brazilian Jazz Journey  https://t.co/ZgWR...</td>\n",
              "      <td>['jazz', 'drums', 'drurmmer', 'live', 'show', ...</td>\n",
              "      <td>jazz</td>\n",
              "    </tr>\n",
              "    <tr>\n",
              "      <th>7632</th>\n",
              "      <td>*   * I've noticed that the more adventurous a...</td>\n",
              "      <td>['jazz', 'art', 'quote']</td>\n",
              "      <td>jazz</td>\n",
              "    </tr>\n",
              "    <tr>\n",
              "      <th>7633</th>\n",
              "      <td>Now Playing, Dexter Gordon — Lullaby In Rhythm...</td>\n",
              "      <td>['music', 'Jazz']</td>\n",
              "      <td>jazz</td>\n",
              "    </tr>\n",
              "    <tr>\n",
              "      <th>7634</th>\n",
              "      <td>10 games ahead of us tonight 🙌🔥#NBA2021 Bet Ea...</td>\n",
              "      <td>['NBA2021', 'Warriors', 'Jazz', 'Nets', 'Rapto...</td>\n",
              "      <td>jazz</td>\n",
              "    </tr>\n",
              "    <tr>\n",
              "      <th>7635</th>\n",
              "      <td>Now Playing, Cannonball Adderley — Dancing in ...</td>\n",
              "      <td>['music', 'Jazz']</td>\n",
              "      <td>jazz</td>\n",
              "    </tr>\n",
              "  </tbody>\n",
              "</table>\n",
              "<p>7636 rows × 3 columns</p>\n",
              "</div>"
            ],
            "text/plain": [
              "                                             tweet_text  ... Label\n",
              "0     Now Playing, Lynne Arriale — Think of One from...  ...  jazz\n",
              "1     Live #MagaSwing #jazz #musique #culture Regard...  ...  jazz\n",
              "2     Subscribe to our playlist !⠀ ⠀ https://t.co/Bj...  ...  jazz\n",
              "3     Now Playing, Kenny Burrell — The Squeeze from ...  ...  jazz\n",
              "4     Two Left Feet - 12/02/21  Pre save from midnig...  ...  jazz\n",
              "...                                                 ...  ...   ...\n",
              "7631  Afro Brazilian Jazz Journey  https://t.co/ZgWR...  ...  jazz\n",
              "7632  *   * I've noticed that the more adventurous a...  ...  jazz\n",
              "7633  Now Playing, Dexter Gordon — Lullaby In Rhythm...  ...  jazz\n",
              "7634  10 games ahead of us tonight 🙌🔥#NBA2021 Bet Ea...  ...  jazz\n",
              "7635  Now Playing, Cannonball Adderley — Dancing in ...  ...  jazz\n",
              "\n",
              "[7636 rows x 3 columns]"
            ]
          },
          "metadata": {
            "tags": []
          },
          "execution_count": 38
        }
      ]
    },
    {
      "cell_type": "code",
      "metadata": {
        "id": "TlmW7cyDeq4l"
      },
      "source": [
        "#szétvágás tanító és teszt adatbázisra\n",
        "learn = [df_jazz[0:5340], df_rock[0:5340]]\n",
        "test = [df_rock[5341:7637],df_jazz[5341:7637]]"
      ],
      "execution_count": 39,
      "outputs": []
    },
    {
      "cell_type": "code",
      "metadata": {
        "id": "FlGXCcvdk3K9"
      },
      "source": [
        "#jazz és rock dataframek egyesítése külön tanító és teszt adatbázisokba\r\n",
        "train_dataframe = pd.concat(learn, ignore_index=True)\r\n",
        "test_dataframe = pd.concat(test, ignore_index=True)"
      ],
      "execution_count": 40,
      "outputs": []
    },
    {
      "cell_type": "markdown",
      "metadata": {
        "id": "tNUCLdO-lUJQ"
      },
      "source": [
        "# Adatbázisok szűrése, tisztítása"
      ]
    },
    {
      "cell_type": "code",
      "metadata": {
        "id": "KPuDnzegeq5B"
      },
      "source": [
        "#Url-ek eltávolítása tanító adatbázisból\n",
        "train_dataframe['tweet_text'] = train_dataframe['tweet_text'].apply(lambda x: re.split('https:\\/\\/.*', str(x))[0])"
      ],
      "execution_count": 41,
      "outputs": []
    },
    {
      "cell_type": "code",
      "metadata": {
        "id": "4SeSAO_jjTpT"
      },
      "source": [
        "#Url-ek eltávolítása teszt adatbázisból\r\n",
        "test_dataframe['tweet_text'] = test_dataframe['tweet_text'].apply(lambda x: re.split('https:\\/\\/.*', str(x))[0])"
      ],
      "execution_count": 42,
      "outputs": []
    },
    {
      "cell_type": "markdown",
      "metadata": {
        "id": "wk_-sPu2Pbm6"
      },
      "source": [
        "#NLP"
      ]
    },
    {
      "cell_type": "code",
      "metadata": {
        "id": "LHr4PIRMQg4H",
        "colab": {
          "base_uri": "https://localhost:8080/"
        },
        "outputId": "d77a783b-87cf-4134-ac64-392babb7b553"
      },
      "source": [
        "#Lowercase Sample\r\n",
        "text = \"It is a truth universally acknowledged, that a single man in possession of a good fortune, must be in want of a wife.\"\r\n",
        "text = text.lower()\r\n",
        "print(text[:100])"
      ],
      "execution_count": 43,
      "outputs": [
        {
          "output_type": "stream",
          "text": [
            "it is a truth universally acknowledged, that a single man in possession of a good fortune, must be i\n"
          ],
          "name": "stdout"
        }
      ]
    },
    {
      "cell_type": "code",
      "metadata": {
        "id": "hA-Z4J2qU8JJ",
        "colab": {
          "base_uri": "https://localhost:8080/"
        },
        "outputId": "9be297f1-51de-433c-db0c-a06d59e63815"
      },
      "source": [
        "#Lowercase for Dataframe\r\n",
        "text = \"\"\r\n",
        "for x in train_dataframe['tweet_text']:\r\n",
        "  text += x.lower()\r\n",
        "\r\n",
        "print(text[:200])"
      ],
      "execution_count": 44,
      "outputs": [
        {
          "output_type": "stream",
          "text": [
            "now playing, lynne arriale — think of one from live at the montreux jazz festival #music #jazzlive #magaswing #jazz #musique #culture regardez megaswing quintet live subscribe to our playlist !⠀ ⠀ now\n"
          ],
          "name": "stdout"
        }
      ]
    },
    {
      "cell_type": "code",
      "metadata": {
        "colab": {
          "base_uri": "https://localhost:8080/"
        },
        "id": "pa-KF13OQ-OH",
        "outputId": "51e2ee05-07c2-400f-c293-ef7073700533"
      },
      "source": [
        "#removing punctuation Sample\r\n",
        "#print(string.punctuation)\r\n",
        "text_p = \"\".join([char for char in text if char not in string.punctuation])\r\n",
        "print(text_p[:200])"
      ],
      "execution_count": 45,
      "outputs": [
        {
          "output_type": "stream",
          "text": [
            "now playing lynne arriale — think of one from live at the montreux jazz festival music jazzlive magaswing jazz musique culture regardez megaswing quintet live subscribe to our playlist ⠀ ⠀ now playing\n"
          ],
          "name": "stdout"
        }
      ]
    },
    {
      "cell_type": "code",
      "metadata": {
        "id": "2mpN7gFJRY80",
        "colab": {
          "base_uri": "https://localhost:8080/"
        },
        "outputId": "69df4ac6-20b2-4ba1-89d8-64134c46912e"
      },
      "source": [
        "#word tokenization Sample\r\n",
        "import nltk\r\n",
        "nltk.download('punkt')\r\n",
        "words = word_tokenize(text_p)\r\n",
        "print(words[:50])"
      ],
      "execution_count": 46,
      "outputs": [
        {
          "output_type": "stream",
          "text": [
            "[nltk_data] Downloading package punkt to /root/nltk_data...\n",
            "[nltk_data]   Package punkt is already up-to-date!\n",
            "['now', 'playing', 'lynne', 'arriale', '—', 'think', 'of', 'one', 'from', 'live', 'at', 'the', 'montreux', 'jazz', 'festival', 'music', 'jazzlive', 'magaswing', 'jazz', 'musique', 'culture', 'regardez', 'megaswing', 'quintet', 'live', 'subscribe', 'to', 'our', 'playlist', '⠀', '⠀', 'now', 'playing', 'kenny', 'burrell', '—', 'the', 'squeeze', 'from', 'bluesin', 'around', 'music', 'jazztwo', 'left', 'feet', '120221', 'pre', 'save', 'from', 'midnight']\n"
          ],
          "name": "stdout"
        }
      ]
    },
    {
      "cell_type": "code",
      "metadata": {
        "id": "mc5XXfDxRp4b",
        "colab": {
          "base_uri": "https://localhost:8080/"
        },
        "outputId": "c22412ec-4924-44f4-ff85-dbfb7be36c2e"
      },
      "source": [
        "#stopword filtering\r\n",
        "nltk.download('stopwords')\r\n",
        "stop_words = stopwords.words('english')\r\n",
        "print(stop_words[:50])"
      ],
      "execution_count": 47,
      "outputs": [
        {
          "output_type": "stream",
          "text": [
            "[nltk_data] Downloading package stopwords to /root/nltk_data...\n",
            "[nltk_data]   Package stopwords is already up-to-date!\n",
            "['i', 'me', 'my', 'myself', 'we', 'our', 'ours', 'ourselves', 'you', \"you're\", \"you've\", \"you'll\", \"you'd\", 'your', 'yours', 'yourself', 'yourselves', 'he', 'him', 'his', 'himself', 'she', \"she's\", 'her', 'hers', 'herself', 'it', \"it's\", 'its', 'itself', 'they', 'them', 'their', 'theirs', 'themselves', 'what', 'which', 'who', 'whom', 'this', 'that', \"that'll\", 'these', 'those', 'am', 'is', 'are', 'was', 'were', 'be']\n"
          ],
          "name": "stdout"
        }
      ]
    },
    {
      "cell_type": "code",
      "metadata": {
        "id": "NwAl5tAnRsY_",
        "colab": {
          "base_uri": "https://localhost:8080/"
        },
        "outputId": "1d4f39be-b07b-4841-8729-148f028710a3"
      },
      "source": [
        "filtered_words = [word for word in words if word not in stop_words]\r\n",
        "print(filtered_words[:50])"
      ],
      "execution_count": 48,
      "outputs": [
        {
          "output_type": "stream",
          "text": [
            "['playing', 'lynne', 'arriale', '—', 'think', 'one', 'live', 'montreux', 'jazz', 'festival', 'music', 'jazzlive', 'magaswing', 'jazz', 'musique', 'culture', 'regardez', 'megaswing', 'quintet', 'live', 'subscribe', 'playlist', '⠀', '⠀', 'playing', 'kenny', 'burrell', '—', 'squeeze', 'bluesin', 'around', 'music', 'jazztwo', 'left', 'feet', '120221', 'pre', 'save', 'midnight', 'tonight', 'link', 'bio', 'newmusic', 'bassist', 'bass', 'guitar', 'guitarist', 'music', 'funk', 'jazz']\n"
          ],
          "name": "stdout"
        }
      ]
    },
    {
      "cell_type": "code",
      "metadata": {
        "id": "bxF4QWLGRzZ1",
        "colab": {
          "base_uri": "https://localhost:8080/"
        },
        "outputId": "f378445a-8769-47aa-8c63-f2863c1a4fac"
      },
      "source": [
        "#stemming\r\n",
        "porter = PorterStemmer()\r\n",
        "stemmed = [porter.stem(word) for word in filtered_words]\r\n",
        "print(stemmed[:50])"
      ],
      "execution_count": 49,
      "outputs": [
        {
          "output_type": "stream",
          "text": [
            "['play', 'lynn', 'arrial', '—', 'think', 'one', 'live', 'montreux', 'jazz', 'festiv', 'music', 'jazzliv', 'magasw', 'jazz', 'musiqu', 'cultur', 'regardez', 'megasw', 'quintet', 'live', 'subscrib', 'playlist', '⠀', '⠀', 'play', 'kenni', 'burrel', '—', 'squeez', 'bluesin', 'around', 'music', 'jazztwo', 'left', 'feet', '120221', 'pre', 'save', 'midnight', 'tonight', 'link', 'bio', 'newmus', 'bassist', 'bass', 'guitar', 'guitarist', 'music', 'funk', 'jazz']\n"
          ],
          "name": "stdout"
        }
      ]
    },
    {
      "cell_type": "code",
      "metadata": {
        "id": "W6N4h-Q0R5N_",
        "colab": {
          "base_uri": "https://localhost:8080/"
        },
        "outputId": "2d9a6aee-78db-4fdd-cbcd-57437ca450a8"
      },
      "source": [
        "#POS sample\r\n",
        "nltk.download('averaged_perceptron_tagger')\r\n",
        "pos = pos_tag(filtered_words)\r\n",
        "print(pos[:50])"
      ],
      "execution_count": 50,
      "outputs": [
        {
          "output_type": "stream",
          "text": [
            "[nltk_data] Downloading package averaged_perceptron_tagger to\n",
            "[nltk_data]     /root/nltk_data...\n",
            "[nltk_data]   Package averaged_perceptron_tagger is already up-to-\n",
            "[nltk_data]       date!\n",
            "[('playing', 'VBG'), ('lynne', 'JJ'), ('arriale', 'JJ'), ('—', 'NN'), ('think', 'VBP'), ('one', 'CD'), ('live', 'JJ'), ('montreux', 'NN'), ('jazz', 'NN'), ('festival', 'NN'), ('music', 'NN'), ('jazzlive', 'NN'), ('magaswing', 'VBG'), ('jazz', 'NN'), ('musique', 'JJ'), ('culture', 'NN'), ('regardez', 'NN'), ('megaswing', 'VBG'), ('quintet', 'JJ'), ('live', 'JJ'), ('subscribe', 'NN'), ('playlist', 'NN'), ('⠀', 'NNP'), ('⠀', 'NNP'), ('playing', 'VBG'), ('kenny', 'NN'), ('burrell', 'NN'), ('—', 'NNP'), ('squeeze', 'NN'), ('bluesin', 'NN'), ('around', 'IN'), ('music', 'NN'), ('jazztwo', 'NN'), ('left', 'VBD'), ('feet', 'NNS'), ('120221', 'CD'), ('pre', 'NNS'), ('save', 'VBP'), ('midnight', 'VBN'), ('tonight', 'NN'), ('link', 'NN'), ('bio', 'NN'), ('newmusic', 'JJ'), ('bassist', 'NN'), ('bass', 'NN'), ('guitar', 'NN'), ('guitarist', 'NN'), ('music', 'NN'), ('funk', 'NN'), ('jazz', 'NN')]\n"
          ],
          "name": "stdout"
        }
      ]
    },
    {
      "cell_type": "markdown",
      "metadata": {
        "id": "8CBynk8vUSJQ"
      },
      "source": [
        "#Osztályozó"
      ]
    },
    {
      "cell_type": "code",
      "metadata": {
        "id": "nuMNaA9FUZFb"
      },
      "source": [
        "train_data.label.hist()"
      ],
      "execution_count": 50,
      "outputs": []
    }
  ]
}